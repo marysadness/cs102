{
 "cells": [
  {
   "cell_type": "code",
   "execution_count": 109,
   "metadata": {},
   "outputs": [
    {
     "name": "stdout",
     "output_type": "stream",
     "text": [
      "cd C:/cs102/homework10\n"
     ]
    },
    {
     "data": {
      "text/plain": [
       "'C:/cs102/homework10/.git/objects'"
      ]
     },
     "execution_count": 109,
     "metadata": {},
     "output_type": "execute_result"
    }
   ],
   "source": [
    "import os\n",
    "\n",
    "import zlib\n",
    "import hashlib\n",
    "\n",
    "\n",
    "\n",
    "\n",
    "def git_init(path):\n",
    "    try:\n",
    "        os.mkdir(f'{path}/.git')\n",
    "        os.mkdir(f'{path}/.git/objects')\n",
    "        os.mkdir(f'{path}/.git/refs')\n",
    "        with open(f'{path}/.git/HEAD', 'w') as head_file:\n",
    "            head_file.write('ref: refs/heads/master\\n')\n",
    "        \n",
    "\n",
    "        return f'Initialized empty Git repository in {path}/.git'\n",
    "\n",
    "    except:\n",
    "        return'Error: Git repository already exits'\n",
    "\n",
    "\n",
    "def git_cat_file(key_hash):\n",
    "    \n",
    "    if len(key_hash) != 40:\n",
    "            return 'Wrong key_hash'\n",
    "    try:\n",
    "        \n",
    "        first_key = key_hash[:2]\n",
    "        second_key = key_hash[2:]\n",
    "\n",
    "        with open(f'{PATH_OBJ}/{first_key}/{second_key}', 'r') as f:\n",
    "            compressed_data = eval(f.read())\n",
    "            #print(compressed_data)\n",
    "            decompressed_data = zlib.decompress(compressed_data)\n",
    "\n",
    "            return decompressed_data\n",
    "\n",
    "    except:\n",
    "        return 'Error cat-file'\n",
    "\n",
    "\n",
    "def made_key_hash(object_name, content):\n",
    "    header = f\"{object_name} {len(content)}\\u0000\"\n",
    "\n",
    "\n",
    "    key_hash = hashlib.sha1(\n",
    "        header.encode('utf-8')\n",
    "    ).hexdigest()\n",
    "\n",
    "    return key_hash\n",
    "\n",
    "\n",
    "def git_hash_object(file_path):\n",
    "    if os.path.exists(file_path):\n",
    "        if os.path.isdir(file_path):\n",
    "            object_name = 'tree'\n",
    "        else:\n",
    "            object_name = 'blob'\n",
    "        original_data  = open(file_path, 'rb').read()\n",
    "        compressed_data = zlib.compress(original_data, level=-1)\n",
    "        #print(original_data, compressed_data)\n",
    "        key_hash = made_key_hash(object_name, str(original_data))\n",
    "\n",
    "        if not os.path.exists(f'{PATH_OBJ}/{key_hash[:2]}'):\n",
    "            os.mkdir(f'{PATH_OBJ}/{key_hash[:2]}')\n",
    "\n",
    "        with open(f'{PATH_OBJ}/{key_hash[:2]}/{key_hash[2:]}', 'w') as f:\n",
    "            f.write(str(compressed_data))\n",
    "\n",
    "        return key_hash\n",
    "\n",
    "    else:\n",
    "        return 'hash_object: file does not exist'\n",
    "     \n",
    "\n",
    "\n",
    "\n",
    "def git_ls_tree(key_hash):\n",
    "\n",
    "    content = git_cat_file(key_hash)\n",
    "\n",
    "\n",
    "    return content.decode('utf-8')\n",
    "\n",
    "\n",
    "\n",
    "def git_write_tree(path):\n",
    "    wr_tree = ''\n",
    "    y = []\n",
    "    for file_name in set(os.listdir(path)) - set(['.git']):\n",
    "        #print(file_name)\n",
    "        file_path = f'{path}/{file_name}'\n",
    "\n",
    "        if os.path.isdir(file_path):\n",
    "            object_name = 'tree'\n",
    "\n",
    "            key = git_write_tree(file_path)\n",
    "            #print(file_name)\n",
    "        else:\n",
    "            object_name = 'blob'\n",
    "\n",
    "            key = git_hash_object(file_path)\n",
    "\n",
    "        \n",
    "        wr_tree += f'{object_name} {key} {file_name}\\n'\n",
    "    \n",
    "    key =  made_key_hash('tree', path)\n",
    "\n",
    "    if not os.path.exists(f'{PATH_OBJ}/{key[:2]}'):\n",
    "        os.mkdir(f'{PATH_OBJ}/{key[:2]}')\n",
    "\n",
    "    with open(f'{PATH_OBJ}/{key[:2]}/{key[2:]}', 'w') as f:\n",
    "        f.write(str(zlib.compress(bytes(wr_tree, 'utf-8'), level=-1)))\n",
    "\n",
    "    return key\n",
    "\n",
    "\n",
    "PATH = input('cd ') \n",
    "PATH_GIT = PATH + '/.git'\n",
    "PATH_OBJ = PATH_GIT + '/objects'\n",
    "\n",
    "'C:/cs102/homework10/.git/objects'\n",
    "\n"
   ]
  },
  {
   "cell_type": "code",
   "execution_count": 110,
   "metadata": {},
   "outputs": [
    {
     "data": {
      "text/plain": [
       "'Initialized empty Git repository in C:/cs102/homework10/.git'"
      ]
     },
     "execution_count": 110,
     "metadata": {},
     "output_type": "execute_result"
    }
   ],
   "source": [
    "git_init(PATH)\n"
   ]
  },
  {
   "cell_type": "code",
   "execution_count": 111,
   "metadata": {},
   "outputs": [
    {
     "data": {
      "text/plain": [
       "'edf11449702254288f0448ac8287b649517c0c80'"
      ]
     },
     "execution_count": 111,
     "metadata": {},
     "output_type": "execute_result"
    }
   ],
   "source": [
    "hash_name = git_write_tree(PATH_GIT)\n",
    "git_write_tree(PATH_GIT)"
   ]
  },
  {
   "cell_type": "code",
   "execution_count": 112,
   "metadata": {},
   "outputs": [
    {
     "name": "stdout",
     "output_type": "stream",
     "text": [
      "tree 4cb483684810d2e38e1fdc6ddcabd50c0dc5f0dc refs\n",
      "blob b83577636fce3249e23013752c8073388ac38245 HEAD\n",
      "tree 66a4c093b2091f7f3ab0b1b3b0f9b9b165bced7f objects\n",
      "\n"
     ]
    }
   ],
   "source": [
    "print(git_ls_tree(hash_name))"
   ]
  },
  {
   "cell_type": "code",
   "execution_count": 113,
   "metadata": {},
   "outputs": [
    {
     "name": "stdout",
     "output_type": "stream",
     "text": [
      "b'ref: refs/heads/master\\r\\n'\n"
     ]
    }
   ],
   "source": [
    "print(git_cat_file('b83577636fce3249e23013752c8073388ac38245'))"
   ]
  },
  {
   "cell_type": "code",
   "execution_count": null,
   "metadata": {},
   "outputs": [],
   "source": []
  }
 ],
 "metadata": {
  "kernelspec": {
   "display_name": "Python 3",
   "language": "python",
   "name": "python3"
  },
  "language_info": {
   "codemirror_mode": {
    "name": "ipython",
    "version": 3
   },
   "file_extension": ".py",
   "mimetype": "text/x-python",
   "name": "python",
   "nbconvert_exporter": "python",
   "pygments_lexer": "ipython3",
   "version": "3.7.5"
  }
 },
 "nbformat": 4,
 "nbformat_minor": 4
}
